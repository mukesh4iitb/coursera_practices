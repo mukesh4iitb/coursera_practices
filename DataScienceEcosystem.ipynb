{
 "cells": [
  {
   "cell_type": "markdown",
   "id": "bb68c004",
   "metadata": {},
   "source": [
    "# Data Science Tools and Ecosystem"
   ]
  },
  {
   "cell_type": "markdown",
   "id": "dcf3c6d2",
   "metadata": {},
   "source": [
    "In this notebook, Data Science Tools and Ecosystem are summarized."
   ]
  },
  {
   "cell_type": "markdown",
   "id": "017fa68e",
   "metadata": {},
   "source": [
    "Some of the popular languages that Data Scientists use are:\n",
    "\n",
    "   1. python\n",
    "   1. R\n",
    "   3. SQL\n",
    "   4. Scala\n",
    "   5. Java\n",
    "   1. Julia\n",
    "   7. C++"
   ]
  },
  {
   "cell_type": "markdown",
   "id": "6bf8b7e4",
   "metadata": {},
   "source": [
    "Some of the commonly used libraries used by Data Scientists include:\n",
    "\n",
    "   1. Numpy \n",
    "   1. Pandas\n",
    "   1. Scikit learn\n",
    "   1. Keras\n",
    "   1. Tensorflow"
   ]
  },
  {
   "cell_type": "markdown",
   "id": "457b8455",
   "metadata": {},
   "source": [
    "|Data Science tools|\n",
    "----------------------------\n",
    "| My SQl|\n",
    "----------------------------\n",
    "|PostSQL|\n",
    "----------------------------\n",
    "| hadoop|\n",
    "----------------------------\n"
   ]
  },
  {
   "cell_type": "markdown",
   "id": "b4e30d3a",
   "metadata": {},
   "source": [
    "### Below are a few examples of evaluating arithmetic expressions in Python\n"
   ]
  },
  {
   "cell_type": "code",
   "execution_count": 8,
   "id": "9ebcdc24",
   "metadata": {},
   "outputs": [
    {
     "data": {
      "text/plain": [
       "17"
      ]
     },
     "execution_count": 8,
     "metadata": {},
     "output_type": "execute_result"
    }
   ],
   "source": [
    " # This a simple arithmetic expression to mutiply then add integers \n",
    " (3*4)+5"
   ]
  },
  {
   "cell_type": "code",
   "execution_count": 9,
   "id": "931d3f8e",
   "metadata": {},
   "outputs": [
    {
     "data": {
      "text/plain": [
       "3.3333333333333335"
      ]
     },
     "execution_count": 9,
     "metadata": {},
     "output_type": "execute_result"
    }
   ],
   "source": [
    "# This will convert 200 minutes to hours by diving by 60\n",
    "200/60"
   ]
  },
  {
   "cell_type": "markdown",
   "id": "9b966dae",
   "metadata": {},
   "source": [
    "Some of the popular languages that Data Scientists use are:\n",
    "\n",
    "   * Java script\n",
    "   * php\n",
    "   * Go\n",
    "   * Ruby"
   ]
  },
  {
   "cell_type": "markdown",
   "id": "17076808",
   "metadata": {},
   "source": [
    "## Author\n",
    "Mukesh Singh"
   ]
  },
  {
   "cell_type": "code",
   "execution_count": null,
   "id": "f648e5bc",
   "metadata": {},
   "outputs": [],
   "source": []
  }
 ],
 "metadata": {
  "kernelspec": {
   "display_name": "Python 3 (ipykernel)",
   "language": "python",
   "name": "python3"
  },
  "language_info": {
   "codemirror_mode": {
    "name": "ipython",
    "version": 3
   },
   "file_extension": ".py",
   "mimetype": "text/x-python",
   "name": "python",
   "nbconvert_exporter": "python",
   "pygments_lexer": "ipython3",
   "version": "3.8.10"
  }
 },
 "nbformat": 4,
 "nbformat_minor": 5
}
